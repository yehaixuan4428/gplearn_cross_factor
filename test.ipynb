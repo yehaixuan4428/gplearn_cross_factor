{
 "cells": [
  {
   "cell_type": "code",
   "execution_count": 1,
   "metadata": {},
   "outputs": [],
   "source": [
    "%load_ext autoreload\n",
    "%autoreload 2\n",
    "import warnings\n",
    "import numpy as np\n",
    "import pandas as pd\n",
    "\n",
    "from gp_cross_factor import genetic\n",
    "\n",
    "warnings.filterwarnings('ignore')\n",
    "np.random.seed(10)"
   ]
  },
  {
   "cell_type": "code",
   "execution_count": 2,
   "metadata": {},
   "outputs": [],
   "source": [
    "X = np.random.random((500, 4, 30))\n",
    "Y = np.random.random((500, 30))\n",
    "feature_names = [\"open\", \"close\", \"high\", \"low\"]\n",
    "\n",
    "max_samples = 0.8\n",
    "sample_weight = np.ones(X.shape[0])\n",
    "num_div = int(X.shape[0] * max_samples)\n",
    "sample_weight[num_div:] = 0"
   ]
  },
  {
   "cell_type": "code",
   "execution_count": 3,
   "metadata": {},
   "outputs": [],
   "source": [
    "function_set_all = list(genetic._all_func_dictionary.keys())\n",
    "remove_list = [\"tan\", \"sin\", \"cos\", \"neg\"]\n",
    "function_set = [item for item in function_set_all if item not in remove_list]"
   ]
  },
  {
   "cell_type": "code",
   "execution_count": 4,
   "metadata": {},
   "outputs": [],
   "source": [
    "gp_sample = genetic.SymbolicTransformer(\n",
    "    generations=3,\n",
    "    population_size=20,\n",
    "    tournament_size=10,\n",
    "    init_depth=(1, 3),\n",
    "    hall_of_fame=5,\n",
    "    n_components=2,\n",
    "    function_set=function_set,\n",
    "    metric=\"rank_icir\",\n",
    "    const_range=None,\n",
    "    p_crossover=0.5,\n",
    "    p_hoist_mutation=0.1,\n",
    "    p_subtree_mutation=0.1,\n",
    "    p_point_mutation=0.1,\n",
    "    p_point_replace=0.2,\n",
    "    p_reproduction=0.1,\n",
    "    parsimony_coefficient=0.001,  # raw_fitness - parsimony_coefficient * len(program)\n",
    "    feature_names=feature_names,\n",
    "    max_samples=max_samples,\n",
    "    verbose=2,\n",
    "    random_state=1234,\n",
    "    n_jobs=5,\n",
    ")"
   ]
  },
  {
   "cell_type": "code",
   "execution_count": 5,
   "metadata": {},
   "outputs": [
    {
     "name": "stdout",
     "output_type": "stream",
     "text": [
      "     |        Population Metrics         |             Best Individual Metrics              |Time Remaining |\n",
      "----- ----------------------------------- -------------------------------------------------- ---------------\n",
      " Gen     Length      Depth      Fitness       Length        Depth      Fitness  OOB_Fitness         Time\n"
     ]
    },
    {
     "name": "stderr",
     "output_type": "stream",
     "text": [
      "[Parallel(n_jobs=5)]: Using backend LokyBackend with 5 concurrent workers.\n",
      "[Parallel(n_jobs=5)]: Done   2 out of   5 | elapsed:    1.3s remaining:    2.0s\n",
      "[Parallel(n_jobs=5)]: Done   5 out of   5 | elapsed:    1.3s finished\n",
      "[Parallel(n_jobs=5)]: Using backend LokyBackend with 5 concurrent workers.\n",
      "[Parallel(n_jobs=5)]: Done  20 out of  20 | elapsed:    0.1s finished\n",
      "[Parallel(n_jobs=5)]: Using backend LokyBackend with 5 concurrent workers.\n"
     ]
    },
    {
     "name": "stdout",
     "output_type": "stream",
     "text": [
      "  0       3.70       1.90       0.0409         6.00         2.00        0.083       0.0724        3.38s\n"
     ]
    },
    {
     "name": "stderr",
     "output_type": "stream",
     "text": [
      "[Parallel(n_jobs=5)]: Done   2 out of   5 | elapsed:    0.4s remaining:    0.6s\n",
      "[Parallel(n_jobs=5)]: Done   5 out of   5 | elapsed:    0.4s finished\n",
      "[Parallel(n_jobs=5)]: Using backend LokyBackend with 5 concurrent workers.\n",
      "[Parallel(n_jobs=5)]: Done  20 out of  20 | elapsed:    0.1s finished\n",
      "[Parallel(n_jobs=5)]: Using backend LokyBackend with 5 concurrent workers.\n"
     ]
    },
    {
     "name": "stdout",
     "output_type": "stream",
     "text": [
      "  1       4.50       1.95       0.0603         5.00         2.00        0.122       0.1119        0.97s\n"
     ]
    },
    {
     "name": "stderr",
     "output_type": "stream",
     "text": [
      "[Parallel(n_jobs=5)]: Done   2 out of   5 | elapsed:    0.4s remaining:    0.7s\n",
      "[Parallel(n_jobs=5)]: Done   5 out of   5 | elapsed:    0.5s finished\n",
      "[Parallel(n_jobs=5)]: Using backend LokyBackend with 5 concurrent workers.\n"
     ]
    },
    {
     "name": "stdout",
     "output_type": "stream",
     "text": [
      "  2       4.95       1.85       0.0713         5.00         2.00        0.122       0.1119        0.00s\n"
     ]
    },
    {
     "name": "stderr",
     "output_type": "stream",
     "text": [
      "[Parallel(n_jobs=5)]: Done  20 out of  20 | elapsed:    0.2s finished\n"
     ]
    }
   ],
   "source": [
    "gp_sample.fit_3D(X, Y, sample_weight=sample_weight, baseline=0.2, need_parallel=True)"
   ]
  },
  {
   "cell_type": "code",
   "execution_count": 15,
   "metadata": {},
   "outputs": [
    {
     "name": "stdout",
     "output_type": "stream",
     "text": [
      "ts_correlation_20(high, ts_correlation_5(low, open))\n"
     ]
    },
    {
     "data": {
      "text/html": [
       "<div>\n",
       "<style scoped>\n",
       "    .dataframe tbody tr th:only-of-type {\n",
       "        vertical-align: middle;\n",
       "    }\n",
       "\n",
       "    .dataframe tbody tr th {\n",
       "        vertical-align: top;\n",
       "    }\n",
       "\n",
       "    .dataframe thead th {\n",
       "        text-align: right;\n",
       "    }\n",
       "</style>\n",
       "<table border=\"1\" class=\"dataframe\">\n",
       "  <thead>\n",
       "    <tr style=\"text-align: right;\">\n",
       "      <th></th>\n",
       "      <th>Expression</th>\n",
       "      <th>Fitness</th>\n",
       "      <th>OOB Fitness</th>\n",
       "      <th>Length</th>\n",
       "      <th>Depth</th>\n",
       "    </tr>\n",
       "  </thead>\n",
       "  <tbody>\n",
       "    <tr>\n",
       "      <th>0</th>\n",
       "      <td>ts_correlation_20(high, ts_correlation_5(low, ...</td>\n",
       "      <td>0.121919</td>\n",
       "      <td>0.111923</td>\n",
       "      <td>5</td>\n",
       "      <td>2</td>\n",
       "    </tr>\n",
       "  </tbody>\n",
       "</table>\n",
       "</div>"
      ],
      "text/plain": [
       "                                          Expression   Fitness  OOB Fitness  \\\n",
       "0  ts_correlation_20(high, ts_correlation_5(low, ...  0.121919     0.111923   \n",
       "\n",
       "   Length  Depth  \n",
       "0       5      2  "
      ]
     },
     "execution_count": 15,
     "metadata": {},
     "output_type": "execute_result"
    }
   ],
   "source": [
    "best_result = gp_sample.show_program(baseline=False)\n",
    "res = (\n",
    "    pd.DataFrame(best_result)\n",
    "    .drop_duplicates(subset=\"Expression\")\n",
    "    .sort_values(by=\"Fitness\", ascending=False)\n",
    ")\n",
    "print(res[\"Expression\"].values[0])\n",
    "res"
   ]
  }
 ],
 "metadata": {
  "kernelspec": {
   "display_name": "py312",
   "language": "python",
   "name": "python3"
  },
  "language_info": {
   "codemirror_mode": {
    "name": "ipython",
    "version": 3
   },
   "file_extension": ".py",
   "mimetype": "text/x-python",
   "name": "python",
   "nbconvert_exporter": "python",
   "pygments_lexer": "ipython3",
   "version": "3.12.4"
  }
 },
 "nbformat": 4,
 "nbformat_minor": 2
}
